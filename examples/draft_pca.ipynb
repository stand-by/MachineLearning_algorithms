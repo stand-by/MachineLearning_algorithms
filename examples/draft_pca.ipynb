{
 "metadata": {
  "name": ""
 },
 "nbformat": 3,
 "nbformat_minor": 0,
 "worksheets": [
  {
   "cells": [
    {
     "cell_type": "code",
     "collapsed": false,
     "input": [
      "%matplotlib inline\n",
      "import sys\n",
      "import numpy as np\n",
      "import matplotlib.pyplot as plt\n",
      "sys.path.insert(0, '../ml_toolbox')\n",
      "import preprocess"
     ],
     "language": "python",
     "metadata": {},
     "outputs": [],
     "prompt_number": 10
    },
    {
     "cell_type": "code",
     "collapsed": false,
     "input": [
      "X = np.loadtxt(\"datasets/pca_dataset.csv\",delimiter=',')\n",
      "plt.plot(X[:,0],X[:,1],'bo')"
     ],
     "language": "python",
     "metadata": {},
     "outputs": [
      {
       "metadata": {},
       "output_type": "pyout",
       "prompt_number": 8,
       "text": [
        "[<matplotlib.lines.Line2D at 0x7f5222f04a10>]"
       ]
      },
      {
       "metadata": {},
       "output_type": "display_data",
       "png": "[encoded data removed]",
       "text": [
        "<matplotlib.figure.Figure at 0x7f52233a3b50>"
       ]
      }
     ],
     "prompt_number": 8
    },
    {
     "cell_type": "code",
     "collapsed": false,
     "input": [
      "X = preprocess.get_normalized_and_scaled("
     ],
     "language": "python",
     "metadata": {},
     "outputs": [
      {
       "output_type": "stream",
       "stream": "stdout",
       "text": [
        "[[-0.52331306 -1.59279252]\n",
        " [ 0.46381518  0.84034523]\n",
        " [-1.14839331 -0.58315891]\n",
        " [-1.05405373 -1.27071783]\n",
        " [-0.98402167 -0.81658417]\n",
        " [-0.08490201  1.46633377]\n",
        " [-0.44215763 -1.35221333]\n",
        " [ 1.65512709  1.65622961]\n",
        " [-0.05198776  0.09440201]\n",
        " [ 0.49305926  0.61245677]\n",
        " [ 0.50359639  0.38973079]\n",
        " [ 0.32935623  0.45242294]\n",
        " [ 0.17431804 -0.04748911]\n",
        " [ 1.08056741 -0.33689741]\n",
        " [-0.99325294 -1.21879564]\n",
        " [ 1.41742949  1.2923503 ]\n",
        " [ 0.60026548  0.65385535]\n",
        " [-0.98061738 -0.37147508]\n",
        " [ 0.96523763  2.32981886]\n",
        " [ 1.02758927 -0.35168199]\n",
        " [ 1.47948139  1.65649752]\n",
        " [-0.35270365 -0.19743438]\n",
        " [ 1.42096706  1.10315449]\n",
        " [ 0.23612558 -0.30931801]\n",
        " [-1.25101023 -1.1038306 ]\n",
        " [-0.65914279 -0.05946964]\n",
        " [ 0.80965726  0.93988073]\n",
        " [ 1.55321995  0.10421963]\n",
        " [-1.00960756 -0.18146695]\n",
        " [-0.08649323  0.09629619]\n",
        " [-0.55631899  0.87867759]\n",
        " [ 1.62794601  0.51189371]\n",
        " [-0.76240121 -1.13086421]\n",
        " [ 1.15584817 -0.31789212]\n",
        " [-0.5285968  -0.43176175]\n",
        " [ 0.67806821  1.23533447]\n",
        " [-1.13111516 -1.25536309]\n",
        " [ 1.30118247  0.66791095]\n",
        " [-1.88774936 -1.73253268]\n",
        " [ 0.28697223  0.10689618]\n",
        " [ 0.37178505  1.00958613]\n",
        " [-0.69748919 -0.55861538]\n",
        " [-0.82300596 -1.01074999]\n",
        " [ 0.53397416  0.86562738]\n",
        " [-0.8830723  -1.68050588]\n",
        " [-0.01507225  0.39968681]\n",
        " [-2.41895154 -2.09660014]\n",
        " [-1.7828174   0.06738835]\n",
        " [-0.02929439 -0.49103538]\n",
        " [ 0.97195249  1.06825042]]\n"
       ]
      }
     ],
     "prompt_number": 11
    }
   ],
   "metadata": {}
  }
 ]
}