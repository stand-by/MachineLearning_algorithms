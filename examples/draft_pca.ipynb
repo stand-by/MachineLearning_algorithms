{
 "metadata": {
  "name": ""
 },
 "nbformat": 3,
 "nbformat_minor": 0,
 "worksheets": [
  {
   "cells": [
    {
     "cell_type": "code",
     "collapsed": false,
     "input": [
      "%matplotlib inline\n",
      "import sys\n",
      "import numpy as np\n",
      "import matplotlib.pyplot as plt\n",
      "sys.path.insert(0, '../ml_toolbox')\n",
      "import preprocess\n",
      "from scipy import linalg"
     ],
     "language": "python",
     "metadata": {},
     "outputs": [],
     "prompt_number": 8
    },
    {
     "cell_type": "code",
     "collapsed": false,
     "input": [
      "dataset = np.loadtxt(\"datasets/pca_dataset.csv\",delimiter=',')\n",
      "X = preprocess.get_normalized_and_scaled(dataset)\n",
      "n,m = X.shape\n",
      "plt.plot(X[:,0],X[:,1],'bo')"
     ],
     "language": "python",
     "metadata": {},
     "outputs": [
      {
       "metadata": {},
       "output_type": "pyout",
       "prompt_number": 9,
       "text": [
        "[<matplotlib.lines.Line2D at 0x7f6b19c453d0>]"
       ]
      },
      {
       "metadata": {},
       "output_type": "display_data",
       "png": "[encoded data removed]",
       "text": [
        "<matplotlib.figure.Figure at 0x7f6b1b878890>"
       ]
      }
     ],
     "prompt_number": 9
    },
    {
     "cell_type": "code",
     "collapsed": false,
     "input": [
      "covariance_matrix = np.dot(X.T,X)/float(m)\n",
      "U,S,V = scipy.linalg.svd(covariance_matrix)\n",
      "print U"
     ],
     "language": "python",
     "metadata": {},
     "outputs": [
      {
       "output_type": "stream",
       "stream": "stdout",
       "text": [
        "[[-0.70710678 -0.70710678]\n",
        " [-0.70710678  0.70710678]]\n"
       ]
      }
     ],
     "prompt_number": 28
    },
    {
     "cell_type": "code",
     "collapsed": false,
     "input": [
      "def project(x,U,k):\n",
      "    U_reduced = U[:,:k]\n",
      "    z = np.dot(U_reduced.T,x)\n",
      "    return z\n",
      "def recover(z,U,k):\n",
      "    U_reduced = U[:,:k]\n",
      "    x_approx = np.dot()"
     ],
     "language": "python",
     "metadata": {},
     "outputs": [
      {
       "output_type": "stream",
       "stream": "stdout",
       "text": [
        "1.49631260846\n"
       ]
      }
     ],
     "prompt_number": 31
    }
   ],
   "metadata": {}
  }
 ]
}