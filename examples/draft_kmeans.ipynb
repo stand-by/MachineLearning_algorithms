{
 "metadata": {
  "name": ""
 },
 "nbformat": 3,
 "nbformat_minor": 0,
 "worksheets": [
  {
   "cells": [
    {
     "cell_type": "code",
     "collapsed": false,
     "input": [
      "import numpy as np\n",
      "import matplotlib.pyplot as plt\n",
      "%matplotlib inline"
     ],
     "language": "python",
     "metadata": {},
     "outputs": [],
     "prompt_number": 1
    },
    {
     "cell_type": "code",
     "collapsed": false,
     "input": [
      "X = np.loadtxt(\"datasets/kmeans_dataset.csv\",delimiter=',',unpack=True).T"
     ],
     "language": "python",
     "metadata": {},
     "outputs": [],
     "prompt_number": 2
    },
    {
     "cell_type": "code",
     "collapsed": false,
     "input": [
      "def plotData(myX,mycentroids,myidxs = None):\n",
      "    \"\"\"\n",
      "    Fucntion to plot the data and color it accordingly.\n",
      "    myidxs should be the latest iteraction index vector\n",
      "    mycentroids should be a vector of centroids, one per iteration\n",
      "    \"\"\"\n",
      "    \n",
      "    colors = ['b','g','gold','darkorange','salmon','olivedrab']    \n",
      "    assert myX[0].shape == mycentroids[0][0].shape\n",
      "    assert mycentroids[-1].shape[0] <= len(colors)\n",
      "\n",
      "    #If idxs is supplied, divide up X into colors\n",
      "    if myidxs is not None:\n",
      "        assert myidxs.shape[0] == myX.shape[0]\n",
      "        subX = []\n",
      "        for x in xrange(mycentroids[0].shape[0]):\n",
      "            subX.append(np.array([myX[i] for i in xrange(myX.shape[0]) if myidxs[i] == x]))\n",
      "    else:\n",
      "        subX = [myX]\n",
      "        \n",
      "    fig = plt.figure(figsize=(7,5))\n",
      "    for x in xrange(len(subX)):\n",
      "        newX = subX[x]\n",
      "        plt.plot(newX[:,0],newX[:,1],'o',color=colors[x],\n",
      "                 alpha=0.75, label='Data Points: Cluster %d'%x)\n",
      "    plt.xlabel('x1',fontsize=14)\n",
      "    plt.ylabel('x2',fontsize=14)\n",
      "    plt.title('Plot of X Points',fontsize=16)\n",
      "    plt.grid(True)\n",
      "\n",
      "    #Drawing a history of centroid movement\n",
      "    tempx, tempy = [], []\n",
      "    for mycentroid in mycentroids:\n",
      "        tempx.append(mycentroid[:,0])\n",
      "        tempy.append(mycentroid[:,1])\n",
      "    \n",
      "    for x in xrange(len(tempx[0])):\n",
      "        plt.plot(tempx, tempy, 'rx--', markersize=8)\n",
      "\n",
      "    leg = plt.legend(loc=4, framealpha=0.5)"
     ],
     "language": "python",
     "metadata": {},
     "outputs": [],
     "prompt_number": 3
    },
    {
     "cell_type": "code",
     "collapsed": false,
     "input": [
      "squared_norm = lambda x,y: np.sum((x-y)**2)\n",
      "def closest_centroids(X, centroids):\n",
      "    colors = []\n",
      "    for x0 in X:\n",
      "        distances = np.zeros(centroids.shape[0])\n",
      "        for i,centroid in enumerate(centroids):\n",
      "            distances[i] = squared_norm(centroid,x0)\n",
      "        colors.append(np.argmin(distances))\n",
      "    return np.array(colors)"
     ],
     "language": "python",
     "metadata": {},
     "outputs": [],
     "prompt_number": 4
    },
    {
     "cell_type": "code",
     "collapsed": false,
     "input": [
      "initial_centroids = np.array([[3,3],[6,2],[8,5]])\n",
      "labels = closest_centroids(X, initial_centroids)\n",
      "plotData(X,[np.array([[3,3],[6,2],[8,5]])],labels)"
     ],
     "language": "python",
     "metadata": {},
     "outputs": []
    }
   ],
   "metadata": {}
  }
 ]
}