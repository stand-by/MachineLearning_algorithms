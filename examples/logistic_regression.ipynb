{
 "metadata": {
  "name": ""
 },
 "nbformat": 3,
 "nbformat_minor": 0,
 "worksheets": [
  {
   "cells": [
    {
     "cell_type": "code",
     "collapsed": false,
     "input": [
      "import sys\n",
      "sys.path.insert(0, '../ml_toolbox')\n",
      "import logistic_regression\n",
      "import numpy as np\n",
      "import matplotlib.pyplot as plt\n",
      "%matplotlib inline"
     ],
     "language": "python",
     "metadata": {},
     "outputs": [],
     "prompt_number": 2
    },
    {
     "cell_type": "heading",
     "level": 2,
     "metadata": {},
     "source": [
      "Students admission prediction based on scores of two exams"
     ]
    },
    {
     "cell_type": "code",
     "collapsed": false,
     "input": [
      "raw_data = open(\"datasets/students_admission.csv\").read().split('\\n')\n",
      "raw_data = [line.split(',') for line in raw_data]\n",
      "raw_data = [[float(trio[0]), float(trio[1]), int(trio[2])] for trio in raw_data]\n",
      "raw_data = np.array(raw_data)\n",
      "X = raw_data[:,0:2]\n",
      "y = raw_data[:,-1]"
     ],
     "language": "python",
     "metadata": {},
     "outputs": [],
     "prompt_number": 12
    }
   ],
   "metadata": {}
  }
 ]
}