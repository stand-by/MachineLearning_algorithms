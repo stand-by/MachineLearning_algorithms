{
 "metadata": {
  "name": ""
 },
 "nbformat": 3,
 "nbformat_minor": 0,
 "worksheets": [
  {
   "cells": [
    {
     "cell_type": "code",
     "collapsed": false,
     "input": [
      "%matplotlib inline\n",
      "import numpy as np\n",
      "import matplotlib.pyplot as plt"
     ],
     "language": "python",
     "metadata": {},
     "outputs": [],
     "prompt_number": 1
    },
    {
     "cell_type": "heading",
     "level": 5,
     "metadata": {},
     "source": [
      "For Each Attribute: (all numeric-valued)\n",
      "   1. Number of times pregnant\n",
      "   2. Plasma glucose concentration a 2 hours in an oral glucose tolerance test\n",
      "   3. Diastolic blood pressure (mm Hg)\n",
      "   4. Triceps skin fold thickness (mm)\n",
      "   5. 2-Hour serum insulin (mu U/ml)\n",
      "   6. Body mass index (weight in kg/(height in m)^2)\n",
      "   7. Diabetes pedigree function\n",
      "   8. Age (years)\n",
      "   9. Class variable (0 or 1)\n"
     ]
    },
    {
     "cell_type": "code",
     "collapsed": false,
     "input": [
      "def splitDataset(dataset, splitRatio):\n",
      "\ttrainSize = int(len(dataset) * splitRatio)\n",
      "\ttrainSet = []\n",
      "\tcopy = list(dataset)\n",
      "\twhile len(trainSet) < trainSize:\n",
      "\t\tindex = np.random.randint(0,len(copy))\n",
      "\t\ttrainSet.append(copy.pop(index))\n",
      "\treturn (np.array(trainSet), np.array(copy))\n",
      "\n",
      "dataset = np.loadtxt('datasets/pima-indians-diabetes.csv',delimiter=',')\n",
      "train_data,test_data = splitDataset(dataset,0.7)"
     ],
     "language": "python",
     "metadata": {},
     "outputs": [],
     "prompt_number": 12
    }
   ],
   "metadata": {}
  }
 ]
}