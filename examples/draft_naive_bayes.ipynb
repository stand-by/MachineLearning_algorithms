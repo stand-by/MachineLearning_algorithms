{
 "metadata": {
  "name": ""
 },
 "nbformat": 3,
 "nbformat_minor": 0,
 "worksheets": [
  {
   "cells": [
    {
     "cell_type": "code",
     "collapsed": false,
     "input": [
      "%matplotlib inline\n",
      "import numpy as np\n",
      "import matplotlib.pyplot as plt"
     ],
     "language": "python",
     "metadata": {},
     "outputs": [],
     "prompt_number": 13
    },
    {
     "cell_type": "code",
     "collapsed": false,
     "input": [
      "\"\"\"\n",
      "For Each Attribute: (all numeric-valued)\n",
      "   1. Number of times pregnant\n",
      "   2. Plasma glucose concentration a 2 hours in an oral glucose tolerance test\n",
      "   3. Diastolic blood pressure (mm Hg)\n",
      "   4. Triceps skin fold thickness (mm)\n",
      "   5. 2-Hour serum insulin (mu U/ml)\n",
      "   6. Body mass index (weight in kg/(height in m)^2)\n",
      "   7. Diabetes pedigree function\n",
      "   8. Age (years)\n",
      "   9. Class variable (0 or 1)\n",
      "\"\"\""
     ],
     "language": "python",
     "metadata": {},
     "outputs": [
      {
       "metadata": {},
       "output_type": "pyout",
       "prompt_number": 14,
       "text": [
        "'\\nFor Each Attribute: (all numeric-valued)\\n   1. Number of times pregnant\\n   2. Plasma glucose concentration a 2 hours in an oral glucose tolerance test\\n   3. Diastolic blood pressure (mm Hg)\\n   4. Triceps skin fold thickness (mm)\\n   5. 2-Hour serum insulin (mu U/ml)\\n   6. Body mass index (weight in kg/(height in m)^2)\\n   7. Diabetes pedigree function\\n   8. Age (years)\\n   9. Class variable (0 or 1)\\n'"
       ]
      }
     ],
     "prompt_number": 14
    },
    {
     "cell_type": "code",
     "collapsed": false,
     "input": [
      "def splitDataset(dataset, splitRatio):\n",
      "\ttrainSize = int(len(dataset) * splitRatio)\n",
      "\ttrainSet = []\n",
      "\tcopy = list(dataset)\n",
      "\twhile len(trainSet) < trainSize:\n",
      "\t\tindex = np.random.randint(0,len(copy))\n",
      "\t\ttrainSet.append(copy.pop(index))\n",
      "\treturn (np.array(trainSet), np.array(copy))\n",
      "\n",
      "dataset = np.loadtxt('datasets/pima-indians-diabetes.csv',delimiter=',')\n",
      "train_data,test_data = splitDataset(dataset,0.7)\n",
      "X,y = train_data[:,:-1],train_data[:,-1].flatten()\n",
      "X_test,y_test = test_data[:,:-1],test_data[:,-1].flatten()"
     ],
     "language": "python",
     "metadata": {},
     "outputs": [],
     "prompt_number": 27
    },
    {
     "cell_type": "code",
     "collapsed": false,
     "input": [
      "#binary classification\n",
      "n_classes = 2\n",
      "n_features = X.shape[1]\n",
      "means = np.zeros((n_classes,n_features))\n",
      "stds = np.zeros((n_classes,n_features))\n",
      "priors = np.zeros(n_classes)\n",
      "\n",
      "#compute parameters\n",
      "for klass in range(n_classes):\n",
      "    certain_class_data = X[y==klass,:]\n",
      "    means[klass,:] = np.mean(X,axis=0)\n",
      "    stds[klass,:] = np.std(X,axis=0)\n",
      "    priors[klass] = certain_class_data.shape[0]/float(X.shape[0])"
     ],
     "language": "python",
     "metadata": {},
     "outputs": [],
     "prompt_number": 34
    }
   ],
   "metadata": {}
  }
 ]
}