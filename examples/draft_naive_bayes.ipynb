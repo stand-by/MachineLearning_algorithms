{
 "metadata": {
  "name": ""
 },
 "nbformat": 3,
 "nbformat_minor": 0,
 "worksheets": [
  {
   "cells": [
    {
     "cell_type": "code",
     "collapsed": false,
     "input": [
      "%matplotlib inline\n",
      "import numpy as np\n",
      "import matplotlib.pyplot as plt"
     ],
     "language": "python",
     "metadata": {},
     "outputs": [],
     "prompt_number": 1
    },
    {
     "cell_type": "code",
     "collapsed": false,
     "input": [
      "\"\"\"\n",
      "For Each Attribute: (all numeric-valued)\n",
      "1. Number of times pregnant\n",
      "2. Plasma glucose concentration a 2 hours in an oral glucose tolerance test\n",
      "3. Diastolic blood pressure (mm Hg)\n",
      "4. Triceps skin fold thickness (mm)\n",
      "5. 2-Hour serum insulin (mu U/ml)\n",
      "6. Body mass index (weight in kg/(height in m)^2)\n",
      "7. Diabetes pedigree function\n",
      "8. Age (years)\n",
      "9. Class variable (0 or 1)\n",
      "\"\"\""
     ],
     "language": "python",
     "metadata": {},
     "outputs": [
      {
       "metadata": {},
       "output_type": "pyout",
       "prompt_number": 2,
       "text": [
        "'\\nFor Each Attribute: (all numeric-valued)\\n1. Number of times pregnant\\n2. Plasma glucose concentration a 2 hours in an oral glucose tolerance test\\n3. Diastolic blood pressure (mm Hg)\\n4. Triceps skin fold thickness (mm)\\n5. 2-Hour serum insulin (mu U/ml)\\n6. Body mass index (weight in kg/(height in m)^2)\\n7. Diabetes pedigree function\\n8. Age (years)\\n9. Class variable (0 or 1)\\n'"
       ]
      }
     ],
     "prompt_number": 2
    },
    {
     "cell_type": "code",
     "collapsed": false,
     "input": [
      "def splitDataset(dataset, splitRatio):\n",
      "\ttrainSize = int(len(dataset) * splitRatio)\n",
      "\ttrainSet = []\n",
      "\tcopy = list(dataset)\n",
      "\twhile len(trainSet) < trainSize:\n",
      "\t\tindex = np.random.randint(0,len(copy))\n",
      "\t\ttrainSet.append(copy.pop(index))\n",
      "\treturn (np.array(trainSet), np.array(copy))\n",
      "\n",
      "dataset = np.loadtxt('datasets/pima-indians-diabetes.csv',delimiter=',')\n",
      "train_data,test_data = splitDataset(dataset,0.7)\n",
      "X,y = train_data[:,:-1],train_data[:,-1].flatten()\n",
      "X_test,y_test = test_data[:,:-1],test_data[:,-1].flatten()"
     ],
     "language": "python",
     "metadata": {},
     "outputs": [],
     "prompt_number": 3
    },
    {
     "cell_type": "code",
     "collapsed": false,
     "input": [
      "#binary classification problem\n",
      "n_classes = 2\n",
      "n_features = X.shape[1]\n",
      "means = np.zeros((n_classes,n_features))\n",
      "stds = np.zeros((n_classes,n_features))\n",
      "priors = np.zeros(n_classes)\n",
      "\n",
      "#compute parameters\n",
      "for klass in range(n_classes):\n",
      "    certain_class_data = X[y==klass,:]\n",
      "    means[klass,:] = np.mean(certain_class_data,axis=0)\n",
      "    stds[klass,:] = np.std(certain_class_data,axis=0)\n",
      "    priors[klass] = certain_class_data.shape[0]/float(X.shape[0])"
     ],
     "language": "python",
     "metadata": {},
     "outputs": [],
     "prompt_number": 4
    },
    {
     "cell_type": "code",
     "collapsed": false,
     "input": [
      "def gaussian_density(x,m,s):\n",
      "    return np.exp(-((x-m)**2)/(2*s**2))/(np.sqrt(2*np.pi)*s)\n",
      "\n",
      "def probability_for_input(input_vector):\n",
      "    probablities = np.array([1.0,1.0])\n",
      "    for klass in range(n_classes):\n",
      "        for i in range(len(means[klass])):\n",
      "            mean = means[klass,i]\n",
      "            std = stds[klass,i]\n",
      "            x = input_vector[i]\n",
      "            probablities[klass] *= gaussian_density(x,mean,std)\n",
      "    return probablities\n",
      "\n",
      "def predict(input_vector):\n",
      "    probs = probability_for_input(input_vector)\n",
      "    if probs[0] > probs[1]: return 0\n",
      "    else: return 1"
     ],
     "language": "python",
     "metadata": {},
     "outputs": [],
     "prompt_number": 9
    },
    {
     "cell_type": "code",
     "collapsed": false,
     "input": [
      "predictions = []\n",
      "for i in range(len(X)):\n",
      "    predictions.append(predict(X[i]))\n",
      "print \"Accuracy on training set\", np.mean(predictions==y)"
     ],
     "language": "python",
     "metadata": {},
     "outputs": [
      {
       "output_type": "stream",
       "stream": "stdout",
       "text": [
        "Accuracy on training set 0.750465549348\n"
       ]
      }
     ],
     "prompt_number": 11
    },
    {
     "cell_type": "code",
     "collapsed": false,
     "input": [
      "predictions = []\n",
      "for i in range(len(X_test)):\n",
      "    predictions.append(predict(X_test[i]))\n",
      "print \"Accuracy on testing set\", np.mean(predictions==y_test)"
     ],
     "language": "python",
     "metadata": {},
     "outputs": [
      {
       "output_type": "stream",
       "stream": "stdout",
       "text": [
        "Accuracy on testing set 0.78354978355\n"
       ]
      }
     ],
     "prompt_number": 12
    }
   ],
   "metadata": {}
  }
 ]
}