{
 "metadata": {
  "name": ""
 },
 "nbformat": 3,
 "nbformat_minor": 0,
 "worksheets": [
  {
   "cells": [
    {
     "cell_type": "code",
     "collapsed": false,
     "input": [
      "import sys\n",
      "sys.path.insert(0, '../ml_toolbox')\n",
      "import linear_regression\n",
      "import numpy as np\n",
      "import matplotlib.pyplot as plt\n",
      "%matplotlib inline"
     ],
     "language": "python",
     "metadata": {},
     "outputs": [],
     "prompt_number": 2
    },
    {
     "cell_type": "heading",
     "level": 2,
     "metadata": {},
     "source": [
      "Predict temperature in Fahrenheit on chirps/sec for the striped ground cricket as input (single variable linear regression)"
     ]
    },
    {
     "cell_type": "heading",
     "level": 4,
     "metadata": {},
     "source": [
      "Upload and preprocess data:"
     ]
    },
    {
     "cell_type": "code",
     "collapsed": false,
     "input": [
      "raw_data = open(\"datasets/crickets_vs_temperature.csv\").read().split('\\r\\n')\n",
      "input_label, output_label = raw_data[0].split(',')\n",
      "del raw_data[0]\n",
      "raw_data = [line.split(',') for line in raw_data]\n",
      "raw_data = [[float(pair[0]), float(pair[1])] for pair in data]\n",
      "raw_data = np.array(raw_data)\n",
      "X = raw_data[:,0]\n",
      "y = raw_data[:,1]\n",
      "#we have pretty similar scales on x and y, so we are not going to apply normalization and scaling"
     ],
     "language": "python",
     "metadata": {},
     "outputs": [],
     "prompt_number": 35
    },
    {
     "cell_type": "heading",
     "level": 4,
     "metadata": {},
     "source": [
      "Plot our dataset"
     ]
    },
    {
     "cell_type": "code",
     "collapsed": false,
     "input": [
      "plt.plot(X[:],y[:],'ro')\n",
      "plt.xlabel(input_label)\n",
      "plt.ylabel(output_label)"
     ],
     "language": "python",
     "metadata": {},
     "outputs": [
      {
       "metadata": {},
       "output_type": "pyout",
       "prompt_number": 38,
       "text": [
        "<matplotlib.text.Text at 0x7f4467fd20d0>"
       ]
      },
      {
       "metadata": {},
       "output_type": "display_data",
       "png": "[encoded data removed]",
       "text": [
        "<matplotlib.figure.Figure at 0x7f4467df0490>"
       ]
      }
     ],
     "prompt_number": 38
    }
   ],
   "metadata": {}
  }
 ]
}